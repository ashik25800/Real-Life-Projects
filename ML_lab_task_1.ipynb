{
  "nbformat": 4,
  "nbformat_minor": 0,
  "metadata": {
    "colab": {
      "name": "ML lab task 1.ipynb",
      "provenance": [],
      "collapsed_sections": [],
      "mount_file_id": "1SFGf9XjOnUiAohykGB4J5--txiV6BsIA",
      "authorship_tag": "ABX9TyNuvqhsx7tQlVRqtxMR8gkK",
      "include_colab_link": true
    },
    "kernelspec": {
      "display_name": "Python 3",
      "name": "python3"
    },
    "language_info": {
      "name": "python"
    }
  },
  "cells": [
    {
      "cell_type": "markdown",
      "metadata": {
        "id": "view-in-github",
        "colab_type": "text"
      },
      "source": [
        "<a href=\"https://colab.research.google.com/github/ashik25800/Real-Life-Projects/blob/main/ML_lab_task_1.ipynb\" target=\"_parent\"><img src=\"https://colab.research.google.com/assets/colab-badge.svg\" alt=\"Open In Colab\"/></a>"
      ]
    },
    {
      "cell_type": "code",
      "metadata": {
        "id": "aUORNMi-bsUG"
      },
      "source": [
        "import numpy as np\n",
        "import pandas as pd\n",
        "import matplotlib.pyplot as plt"
      ],
      "execution_count": 3,
      "outputs": []
    },
    {
      "cell_type": "code",
      "metadata": {
        "id": "3zmXI59ycT8r"
      },
      "source": [
        "data = pd.read_csv('/content/Churn Modelling .csv')"
      ],
      "execution_count": 4,
      "outputs": []
    },
    {
      "cell_type": "markdown",
      "metadata": {
        "id": "UBIzuHrn2Zrd"
      },
      "source": [
        "***1. How much data is available in the given dataset?.***"
      ]
    },
    {
      "cell_type": "code",
      "metadata": {
        "id": "LC2tx9SLcarq"
      },
      "source": [
        "size = data.size\n",
        "shape = data.shape"
      ],
      "execution_count": 5,
      "outputs": []
    },
    {
      "cell_type": "code",
      "metadata": {
        "colab": {
          "base_uri": "https://localhost:8080/"
        },
        "id": "zjFLPFOHcssL",
        "outputId": "405775e3-0aae-43b8-f20e-b914ebc47b27"
      },
      "source": [
        "\n",
        "print(\"There are total \",size,\" data in the dataset.\")\n",
        "print(\"There are \",shape[0],\" rows and \",shape[1],\" columns\")"
      ],
      "execution_count": 70,
      "outputs": [
        {
          "output_type": "stream",
          "name": "stdout",
          "text": [
            "There are total  140000  data in the dataset.\n",
            "There are  10000  rows and  14  columns\n"
          ]
        }
      ]
    },
    {
      "cell_type": "markdown",
      "metadata": {
        "id": "MDWRCt1E2j3b"
      },
      "source": [
        "***2. Show the all columns name.***"
      ]
    },
    {
      "cell_type": "code",
      "metadata": {
        "id": "oZdyEKjheMmc"
      },
      "source": [
        "columns_name = data.columns"
      ],
      "execution_count": 7,
      "outputs": []
    },
    {
      "cell_type": "code",
      "metadata": {
        "colab": {
          "base_uri": "https://localhost:8080/"
        },
        "id": "93Hq_4wHcnej",
        "outputId": "e32385f1-34bd-42e5-a8f5-4da988550498"
      },
      "source": [
        "print('All columns name: ')\n",
        "j = 0\n",
        "for i in columns_name:\n",
        "  print(j,\" : \",i)\n",
        "  j+=1"
      ],
      "execution_count": 69,
      "outputs": [
        {
          "output_type": "stream",
          "name": "stdout",
          "text": [
            "All columns name: \n",
            "0  :  RowNumber\n",
            "1  :  CustomerId\n",
            "2  :  Surname\n",
            "3  :  CreditScore\n",
            "4  :  Geography\n",
            "5  :  Gender\n",
            "6  :  Age\n",
            "7  :  Tenure\n",
            "8  :  Balance\n",
            "9  :  NumOfProducts\n",
            "10  :  HasCrCard\n",
            "11  :  IsActiveMember\n",
            "12  :  EstimatedSalary\n",
            "13  :  Exited\n"
          ]
        }
      ]
    },
    {
      "cell_type": "markdown",
      "metadata": {
        "id": "p7PBt3KB2Jdj"
      },
      "source": [
        "***3. How many null values are available in the dataset?***"
      ]
    },
    {
      "cell_type": "code",
      "metadata": {
        "id": "ESgIKBmffCV1"
      },
      "source": [
        "null_values = data.isnull().sum()"
      ],
      "execution_count": 9,
      "outputs": []
    },
    {
      "cell_type": "code",
      "metadata": {
        "colab": {
          "base_uri": "https://localhost:8080/"
        },
        "id": "nxrryLHTe6V6",
        "outputId": "e3f84552-db8e-494f-9816-0b1486930e15"
      },
      "source": [
        "print(\"There are \",null_values.sum(),\" total null values in the dataset\")\n",
        "print()\n",
        "print(\"They are: \")\n",
        "null_values"
      ],
      "execution_count": 68,
      "outputs": [
        {
          "output_type": "stream",
          "name": "stdout",
          "text": [
            "There are  21  total null values in the dataset\n",
            "\n",
            "They are: \n"
          ]
        },
        {
          "output_type": "execute_result",
          "data": {
            "text/plain": [
              "RowNumber           0\n",
              "CustomerId          0\n",
              "Surname             0\n",
              "CreditScore         0\n",
              "Geography           0\n",
              "Gender              0\n",
              "Age                11\n",
              "Tenure              0\n",
              "Balance            10\n",
              "NumOfProducts       0\n",
              "HasCrCard           0\n",
              "IsActiveMember      0\n",
              "EstimatedSalary     0\n",
              "Exited              0\n",
              "dtype: int64"
            ]
          },
          "metadata": {},
          "execution_count": 68
        }
      ]
    },
    {
      "cell_type": "markdown",
      "metadata": {
        "id": "dpSLltIK18Kx"
      },
      "source": [
        "***4. Process the null values using your own knowledge (if any).***"
      ]
    },
    {
      "cell_type": "markdown",
      "metadata": {
        "id": "FYZGSfbrgTEi"
      },
      "source": [
        "# Though I can choose padding or backfilling, but I will choose the row deleting method. That means I will delete the row which contains null values."
      ]
    },
    {
      "cell_type": "code",
      "metadata": {
        "colab": {
          "base_uri": "https://localhost:8080/"
        },
        "id": "D3YGeBbCe-j1",
        "outputId": "beef3d12-0a0c-433d-eb0e-f75c97d84ef0"
      },
      "source": [
        "\n",
        "data = data.dropna() #droping the null value contains rows\n",
        "data.isnull().sum()"
      ],
      "execution_count": 67,
      "outputs": [
        {
          "output_type": "execute_result",
          "data": {
            "text/plain": [
              "RowNumber          0\n",
              "CustomerId         0\n",
              "Surname            0\n",
              "CreditScore        0\n",
              "Geography          0\n",
              "Gender             0\n",
              "Age                0\n",
              "Tenure             0\n",
              "Balance            0\n",
              "NumOfProducts      0\n",
              "HasCrCard          0\n",
              "IsActiveMember     0\n",
              "EstimatedSalary    0\n",
              "Exited             0\n",
              "dtype: int64"
            ]
          },
          "metadata": {},
          "execution_count": 67
        }
      ]
    },
    {
      "cell_type": "markdown",
      "metadata": {
        "id": "QyKxk9dc1tx1"
      },
      "source": [
        "***5. Delete the unnecessary columns from the dataset.***"
      ]
    },
    {
      "cell_type": "code",
      "metadata": {
        "colab": {
          "base_uri": "https://localhost:8080/",
          "height": 225
        },
        "id": "vRrsyhg7hXER",
        "outputId": "b643d690-f153-4a87-b30b-408a65e97d4a"
      },
      "source": [
        "data.sample(5)"
      ],
      "execution_count": 12,
      "outputs": [
        {
          "output_type": "execute_result",
          "data": {
            "text/html": [
              "<div>\n",
              "<style scoped>\n",
              "    .dataframe tbody tr th:only-of-type {\n",
              "        vertical-align: middle;\n",
              "    }\n",
              "\n",
              "    .dataframe tbody tr th {\n",
              "        vertical-align: top;\n",
              "    }\n",
              "\n",
              "    .dataframe thead th {\n",
              "        text-align: right;\n",
              "    }\n",
              "</style>\n",
              "<table border=\"1\" class=\"dataframe\">\n",
              "  <thead>\n",
              "    <tr style=\"text-align: right;\">\n",
              "      <th></th>\n",
              "      <th>RowNumber</th>\n",
              "      <th>CustomerId</th>\n",
              "      <th>Surname</th>\n",
              "      <th>CreditScore</th>\n",
              "      <th>Geography</th>\n",
              "      <th>Gender</th>\n",
              "      <th>Age</th>\n",
              "      <th>Tenure</th>\n",
              "      <th>Balance</th>\n",
              "      <th>NumOfProducts</th>\n",
              "      <th>HasCrCard</th>\n",
              "      <th>IsActiveMember</th>\n",
              "      <th>EstimatedSalary</th>\n",
              "      <th>Exited</th>\n",
              "    </tr>\n",
              "  </thead>\n",
              "  <tbody>\n",
              "    <tr>\n",
              "      <th>3979</th>\n",
              "      <td>3980</td>\n",
              "      <td>15783030</td>\n",
              "      <td>Owens</td>\n",
              "      <td>685</td>\n",
              "      <td>France</td>\n",
              "      <td>Female</td>\n",
              "      <td>40.0</td>\n",
              "      <td>7</td>\n",
              "      <td>0.00</td>\n",
              "      <td>1</td>\n",
              "      <td>1</td>\n",
              "      <td>0</td>\n",
              "      <td>72852.74</td>\n",
              "      <td>1</td>\n",
              "    </tr>\n",
              "    <tr>\n",
              "      <th>6164</th>\n",
              "      <td>6165</td>\n",
              "      <td>15608109</td>\n",
              "      <td>Greco</td>\n",
              "      <td>710</td>\n",
              "      <td>Germany</td>\n",
              "      <td>Male</td>\n",
              "      <td>58.0</td>\n",
              "      <td>7</td>\n",
              "      <td>170113.00</td>\n",
              "      <td>2</td>\n",
              "      <td>0</td>\n",
              "      <td>1</td>\n",
              "      <td>10494.64</td>\n",
              "      <td>0</td>\n",
              "    </tr>\n",
              "    <tr>\n",
              "      <th>5543</th>\n",
              "      <td>5544</td>\n",
              "      <td>15585777</td>\n",
              "      <td>Pai</td>\n",
              "      <td>710</td>\n",
              "      <td>France</td>\n",
              "      <td>Male</td>\n",
              "      <td>38.0</td>\n",
              "      <td>3</td>\n",
              "      <td>130588.82</td>\n",
              "      <td>1</td>\n",
              "      <td>1</td>\n",
              "      <td>1</td>\n",
              "      <td>154997.64</td>\n",
              "      <td>0</td>\n",
              "    </tr>\n",
              "    <tr>\n",
              "      <th>9900</th>\n",
              "      <td>9901</td>\n",
              "      <td>15645896</td>\n",
              "      <td>Duncan</td>\n",
              "      <td>646</td>\n",
              "      <td>Germany</td>\n",
              "      <td>Male</td>\n",
              "      <td>39.0</td>\n",
              "      <td>6</td>\n",
              "      <td>121681.91</td>\n",
              "      <td>2</td>\n",
              "      <td>0</td>\n",
              "      <td>1</td>\n",
              "      <td>61793.47</td>\n",
              "      <td>0</td>\n",
              "    </tr>\n",
              "    <tr>\n",
              "      <th>532</th>\n",
              "      <td>533</td>\n",
              "      <td>15663478</td>\n",
              "      <td>Baldwin</td>\n",
              "      <td>729</td>\n",
              "      <td>France</td>\n",
              "      <td>Male</td>\n",
              "      <td>32.0</td>\n",
              "      <td>6</td>\n",
              "      <td>93694.42</td>\n",
              "      <td>1</td>\n",
              "      <td>1</td>\n",
              "      <td>1</td>\n",
              "      <td>79919.13</td>\n",
              "      <td>0</td>\n",
              "    </tr>\n",
              "  </tbody>\n",
              "</table>\n",
              "</div>"
            ],
            "text/plain": [
              "      RowNumber  CustomerId  Surname  ...  IsActiveMember EstimatedSalary Exited\n",
              "3979       3980    15783030    Owens  ...               0        72852.74      1\n",
              "6164       6165    15608109    Greco  ...               1        10494.64      0\n",
              "5543       5544    15585777      Pai  ...               1       154997.64      0\n",
              "9900       9901    15645896   Duncan  ...               1        61793.47      0\n",
              "532         533    15663478  Baldwin  ...               1        79919.13      0\n",
              "\n",
              "[5 rows x 14 columns]"
            ]
          },
          "metadata": {},
          "execution_count": 12
        }
      ]
    },
    {
      "cell_type": "markdown",
      "metadata": {
        "id": "tfDzTQVBim7a"
      },
      "source": [
        "#I think RowNumber, CustomerId and Surname these columns are useless in this dataset. So, Im droping the command."
      ]
    },
    {
      "cell_type": "code",
      "metadata": {
        "colab": {
          "base_uri": "https://localhost:8080/",
          "height": 261
        },
        "id": "yKeaPWNLimQv",
        "outputId": "074f8a71-b6fc-47cc-9479-349b9ee14a3d"
      },
      "source": [
        "print(\"5. Delete the unnecessary columns from the dataset.\")\n",
        "print()\n",
        "#unnecessary columns are droped with drop method\n",
        "column_processed = data.drop(['RowNumber','CustomerId','Surname'],axis = 1)\n",
        "column_processed.head(5)"
      ],
      "execution_count": 13,
      "outputs": [
        {
          "output_type": "stream",
          "name": "stdout",
          "text": [
            "5. Delete the unnecessary columns from the dataset.\n",
            "\n"
          ]
        },
        {
          "output_type": "execute_result",
          "data": {
            "text/html": [
              "<div>\n",
              "<style scoped>\n",
              "    .dataframe tbody tr th:only-of-type {\n",
              "        vertical-align: middle;\n",
              "    }\n",
              "\n",
              "    .dataframe tbody tr th {\n",
              "        vertical-align: top;\n",
              "    }\n",
              "\n",
              "    .dataframe thead th {\n",
              "        text-align: right;\n",
              "    }\n",
              "</style>\n",
              "<table border=\"1\" class=\"dataframe\">\n",
              "  <thead>\n",
              "    <tr style=\"text-align: right;\">\n",
              "      <th></th>\n",
              "      <th>CreditScore</th>\n",
              "      <th>Geography</th>\n",
              "      <th>Gender</th>\n",
              "      <th>Age</th>\n",
              "      <th>Tenure</th>\n",
              "      <th>Balance</th>\n",
              "      <th>NumOfProducts</th>\n",
              "      <th>HasCrCard</th>\n",
              "      <th>IsActiveMember</th>\n",
              "      <th>EstimatedSalary</th>\n",
              "      <th>Exited</th>\n",
              "    </tr>\n",
              "  </thead>\n",
              "  <tbody>\n",
              "    <tr>\n",
              "      <th>1</th>\n",
              "      <td>608</td>\n",
              "      <td>Spain</td>\n",
              "      <td>Female</td>\n",
              "      <td>41.0</td>\n",
              "      <td>1</td>\n",
              "      <td>83807.86</td>\n",
              "      <td>1</td>\n",
              "      <td>0</td>\n",
              "      <td>1</td>\n",
              "      <td>112542.58</td>\n",
              "      <td>0</td>\n",
              "    </tr>\n",
              "    <tr>\n",
              "      <th>2</th>\n",
              "      <td>502</td>\n",
              "      <td>France</td>\n",
              "      <td>Female</td>\n",
              "      <td>42.0</td>\n",
              "      <td>8</td>\n",
              "      <td>159660.80</td>\n",
              "      <td>3</td>\n",
              "      <td>1</td>\n",
              "      <td>0</td>\n",
              "      <td>113931.57</td>\n",
              "      <td>1</td>\n",
              "    </tr>\n",
              "    <tr>\n",
              "      <th>4</th>\n",
              "      <td>850</td>\n",
              "      <td>Spain</td>\n",
              "      <td>Female</td>\n",
              "      <td>43.0</td>\n",
              "      <td>2</td>\n",
              "      <td>125510.82</td>\n",
              "      <td>1</td>\n",
              "      <td>1</td>\n",
              "      <td>1</td>\n",
              "      <td>79084.10</td>\n",
              "      <td>0</td>\n",
              "    </tr>\n",
              "    <tr>\n",
              "      <th>5</th>\n",
              "      <td>645</td>\n",
              "      <td>Spain</td>\n",
              "      <td>Male</td>\n",
              "      <td>44.0</td>\n",
              "      <td>8</td>\n",
              "      <td>113755.78</td>\n",
              "      <td>2</td>\n",
              "      <td>1</td>\n",
              "      <td>0</td>\n",
              "      <td>149756.71</td>\n",
              "      <td>1</td>\n",
              "    </tr>\n",
              "    <tr>\n",
              "      <th>7</th>\n",
              "      <td>376</td>\n",
              "      <td>Germany</td>\n",
              "      <td>Female</td>\n",
              "      <td>29.0</td>\n",
              "      <td>4</td>\n",
              "      <td>115046.74</td>\n",
              "      <td>4</td>\n",
              "      <td>1</td>\n",
              "      <td>0</td>\n",
              "      <td>119346.88</td>\n",
              "      <td>1</td>\n",
              "    </tr>\n",
              "  </tbody>\n",
              "</table>\n",
              "</div>"
            ],
            "text/plain": [
              "   CreditScore Geography  Gender  ...  IsActiveMember  EstimatedSalary  Exited\n",
              "1          608     Spain  Female  ...               1        112542.58       0\n",
              "2          502    France  Female  ...               0        113931.57       1\n",
              "4          850     Spain  Female  ...               1         79084.10       0\n",
              "5          645     Spain    Male  ...               0        149756.71       1\n",
              "7          376   Germany  Female  ...               0        119346.88       1\n",
              "\n",
              "[5 rows x 11 columns]"
            ]
          },
          "metadata": {},
          "execution_count": 13
        }
      ]
    },
    {
      "cell_type": "markdown",
      "metadata": {
        "id": "he20S9U21mvY"
      },
      "source": [
        "***6. Apply feature scaling in the CreditScore, Balance, EstimatedSalary columns and make a dataframe of this given three columns***"
      ]
    },
    {
      "cell_type": "markdown",
      "metadata": {
        "id": "B2A9mk1olyFy"
      },
      "source": [
        "#Feature scaling (MinMax)"
      ]
    },
    {
      "cell_type": "code",
      "metadata": {
        "id": "rrQgCivemcYw"
      },
      "source": [
        "from sklearn.preprocessing import MinMaxScaler\n",
        "scaler = MinMaxScaler(feature_range=(0,1))"
      ],
      "execution_count": 14,
      "outputs": []
    },
    {
      "cell_type": "code",
      "metadata": {
        "id": "0Kk7e9XHloEm"
      },
      "source": [
        "#appling Feature scaling\n",
        "CreditScore = scaler.fit_transform(data[['CreditScore']])\n",
        "Balance = scaler.fit_transform(data[['Balance']])\n",
        "EstimatedSalary = scaler.fit_transform(data[['EstimatedSalary']])"
      ],
      "execution_count": 15,
      "outputs": []
    },
    {
      "cell_type": "code",
      "metadata": {
        "id": "WMgurh6_mzh8"
      },
      "source": [
        "data['CreditScore'] = CreditScore\n",
        "data['Balance'] = Balance\n",
        "data['EstimatedSalary'] = EstimatedSalary"
      ],
      "execution_count": 16,
      "outputs": []
    },
    {
      "cell_type": "markdown",
      "metadata": {
        "id": "f-75Bk9Gnj6-"
      },
      "source": [
        "#after applying feature scaling"
      ]
    },
    {
      "cell_type": "code",
      "metadata": {
        "colab": {
          "base_uri": "https://localhost:8080/",
          "height": 205
        },
        "id": "OSyRUPAdnjAq",
        "outputId": "cfe836e5-f2ab-47dc-dfe4-8070f8a63597"
      },
      "source": [
        "data[['CreditScore','Balance','EstimatedSalary']].sample(5)"
      ],
      "execution_count": 17,
      "outputs": [
        {
          "output_type": "execute_result",
          "data": {
            "text/html": [
              "<div>\n",
              "<style scoped>\n",
              "    .dataframe tbody tr th:only-of-type {\n",
              "        vertical-align: middle;\n",
              "    }\n",
              "\n",
              "    .dataframe tbody tr th {\n",
              "        vertical-align: top;\n",
              "    }\n",
              "\n",
              "    .dataframe thead th {\n",
              "        text-align: right;\n",
              "    }\n",
              "</style>\n",
              "<table border=\"1\" class=\"dataframe\">\n",
              "  <thead>\n",
              "    <tr style=\"text-align: right;\">\n",
              "      <th></th>\n",
              "      <th>CreditScore</th>\n",
              "      <th>Balance</th>\n",
              "      <th>EstimatedSalary</th>\n",
              "    </tr>\n",
              "  </thead>\n",
              "  <tbody>\n",
              "    <tr>\n",
              "      <th>9387</th>\n",
              "      <td>0.348</td>\n",
              "      <td>0.577429</td>\n",
              "      <td>0.938732</td>\n",
              "    </tr>\n",
              "    <tr>\n",
              "      <th>1796</th>\n",
              "      <td>0.410</td>\n",
              "      <td>0.498087</td>\n",
              "      <td>0.300941</td>\n",
              "    </tr>\n",
              "    <tr>\n",
              "      <th>3301</th>\n",
              "      <td>0.606</td>\n",
              "      <td>0.473653</td>\n",
              "      <td>0.264068</td>\n",
              "    </tr>\n",
              "    <tr>\n",
              "      <th>9404</th>\n",
              "      <td>0.490</td>\n",
              "      <td>0.000000</td>\n",
              "      <td>0.525741</td>\n",
              "    </tr>\n",
              "    <tr>\n",
              "      <th>5758</th>\n",
              "      <td>0.662</td>\n",
              "      <td>0.363158</td>\n",
              "      <td>0.120998</td>\n",
              "    </tr>\n",
              "  </tbody>\n",
              "</table>\n",
              "</div>"
            ],
            "text/plain": [
              "      CreditScore   Balance  EstimatedSalary\n",
              "9387        0.348  0.577429         0.938732\n",
              "1796        0.410  0.498087         0.300941\n",
              "3301        0.606  0.473653         0.264068\n",
              "9404        0.490  0.000000         0.525741\n",
              "5758        0.662  0.363158         0.120998"
            ]
          },
          "metadata": {},
          "execution_count": 17
        }
      ]
    },
    {
      "cell_type": "markdown",
      "metadata": {
        "id": "6BgYNgzfoZIk"
      },
      "source": [
        "***7. Represent Geography column data using pie charts and explode the France geography data in the pie charts.***"
      ]
    },
    {
      "cell_type": "code",
      "metadata": {
        "id": "MBVVBU0LoXBt"
      },
      "source": [
        "geography_values = data['Geography'].value_counts()"
      ],
      "execution_count": 18,
      "outputs": []
    },
    {
      "cell_type": "code",
      "metadata": {
        "colab": {
          "base_uri": "https://localhost:8080/",
          "height": 694
        },
        "id": "1qKrkxPPm7LM",
        "outputId": "5f855f10-d004-4bb7-a1e8-99c4e81fc7c6"
      },
      "source": [
        "name = geography_values.index\n",
        "val = geography_values.values\n",
        "\n",
        "explode = [0.08, 0, 0]\n",
        "colors = [\"#1F1D36\",\"#3F3351\",\"#864879\"]\n",
        "\n",
        "\n",
        "plt.figure(figsize=(3,3),dpi = 300)\n",
        "plt.pie(val, labels = name, explode = explode,colors = colors, shadow = False)\n",
        "\n",
        "plt.show()\n"
      ],
      "execution_count": 19,
      "outputs": [
        {
          "output_type": "display_data",
          "data": {
            "image/png": "[encoded data removed]",
            "text/plain": [
              "<Figure size 900x900 with 1 Axes>"
            ]
          },
          "metadata": {}
        }
      ]
    },
    {
      "cell_type": "markdown",
      "metadata": {
        "id": "HtotS4SxubzU"
      },
      "source": [
        "***8. Represent RowNumber(X-axis) and Age(Y-axis) columns data using scatter plots. If the customers are Exited(1) then set the marker color as red, otherwise green. And set the figure size (20,10) inches.***"
      ]
    },
    {
      "cell_type": "code",
      "metadata": {
        "id": "hscw80VMCsWu"
      },
      "source": [
        "#Here x0,y0 contains RowNumber and Age values against when exited 0\n",
        "# x1 and y1 contains RowNumber and Age values against when exited 1\n",
        "\n",
        "x0 = []\n",
        "y0 = []\n",
        "x1 = []\n",
        "y1 = []\n",
        "count = 0\n",
        "for i, j, k in zip(data['Exited'],data['RowNumber'],data['Age']):\n",
        "  if i == 1:\n",
        "    x1.append(j)\n",
        "    y1.append(k)\n",
        "  else:\n",
        "    x0.append(j)\n",
        "    y0.append(k)\n",
        "  \n"
      ],
      "execution_count": 20,
      "outputs": []
    },
    {
      "cell_type": "code",
      "metadata": {
        "colab": {
          "base_uri": "https://localhost:8080/",
          "height": 400
        },
        "id": "YLDEV14tlUqr",
        "outputId": "83bcdc61-647c-409d-b797-500025a8b1b4"
      },
      "source": [
        "\n",
        "plt.figure(figsize=(20,10),dpi = 100)\n",
        "\n",
        "plt.scatter(x0,y0,color = 'green',s = 4)\n",
        "plt.scatter(x1,y1,color = 'red',s = 5)\n",
        "\n",
        "\n"
      ],
      "execution_count": 21,
      "outputs": [
        {
          "output_type": "execute_result",
          "data": {
            "text/plain": [
              "<matplotlib.collections.PathCollection at 0x7f24e0b0fc50>"
            ]
          },
          "metadata": {},
          "execution_count": 21
        },
        {
          "output_type": "display_data",
          "data": {
            "image/png": "[encoded data removed]",
            "text/plain": [
              "<Figure size 2000x1000 with 1 Axes>"
            ]
          },
          "metadata": {
            "needs_background": "light"
          }
        }
      ]
    },
    {
      "cell_type": "markdown",
      "metadata": {
        "id": "u9bCDjwnMV-T"
      },
      "source": [
        "***9. Apply feature encoding(Label Encoding and One Hot Encoding) in the given dataset using your own knowledge.***"
      ]
    },
    {
      "cell_type": "code",
      "metadata": {
        "id": "MWgQHkrelFW_",
        "colab": {
          "base_uri": "https://localhost:8080/"
        },
        "outputId": "8ba529de-58bb-4d0c-af49-e93d3d6b467f"
      },
      "source": [
        "column_processed.info()"
      ],
      "execution_count": 22,
      "outputs": [
        {
          "output_type": "stream",
          "name": "stdout",
          "text": [
            "<class 'pandas.core.frame.DataFrame'>\n",
            "Int64Index: 9979 entries, 1 to 9999\n",
            "Data columns (total 11 columns):\n",
            " #   Column           Non-Null Count  Dtype  \n",
            "---  ------           --------------  -----  \n",
            " 0   CreditScore      9979 non-null   int64  \n",
            " 1   Geography        9979 non-null   object \n",
            " 2   Gender           9979 non-null   object \n",
            " 3   Age              9979 non-null   float64\n",
            " 4   Tenure           9979 non-null   int64  \n",
            " 5   Balance          9979 non-null   float64\n",
            " 6   NumOfProducts    9979 non-null   int64  \n",
            " 7   HasCrCard        9979 non-null   int64  \n",
            " 8   IsActiveMember   9979 non-null   int64  \n",
            " 9   EstimatedSalary  9979 non-null   float64\n",
            " 10  Exited           9979 non-null   int64  \n",
            "dtypes: float64(3), int64(6), object(2)\n",
            "memory usage: 935.5+ KB\n"
          ]
        }
      ]
    },
    {
      "cell_type": "markdown",
      "metadata": {
        "id": "wgsTiNwLMaQ1"
      },
      "source": [
        "# Here we can see 'Geography' and 'Gender'  columns are in string format. So , we need to do Label encoding or one hot encoding in these columns.\n",
        "# we will apply lebel encoding in Geography column and one hot endcoding in Gender columns\n"
      ]
    },
    {
      "cell_type": "markdown",
      "metadata": {
        "id": "f-29P-KyQBK9"
      },
      "source": [
        "**Label Encoding**"
      ]
    },
    {
      "cell_type": "code",
      "metadata": {
        "id": "NGg_Yxl5N-zb"
      },
      "source": [
        "from sklearn.preprocessing import LabelEncoder"
      ],
      "execution_count": 23,
      "outputs": []
    },
    {
      "cell_type": "code",
      "metadata": {
        "id": "yxLs3BXdNxJ8"
      },
      "source": [
        "label_encoder = LabelEncoder()"
      ],
      "execution_count": 24,
      "outputs": []
    },
    {
      "cell_type": "code",
      "metadata": {
        "id": "uMBugWP9PNKS"
      },
      "source": [
        "column_processed['encoded_geography'] = label_encoder.fit_transform(column_processed['Geography'])"
      ],
      "execution_count": 25,
      "outputs": []
    },
    {
      "cell_type": "code",
      "metadata": {
        "colab": {
          "base_uri": "https://localhost:8080/",
          "height": 205
        },
        "id": "vXmamyW4PaiO",
        "outputId": "04af080d-9b53-441f-f9fe-2cb01d397d5f"
      },
      "source": [
        "column_processed[['Geography','encoded_geography']].head(5)"
      ],
      "execution_count": 26,
      "outputs": [
        {
          "output_type": "execute_result",
          "data": {
            "text/html": [
              "<div>\n",
              "<style scoped>\n",
              "    .dataframe tbody tr th:only-of-type {\n",
              "        vertical-align: middle;\n",
              "    }\n",
              "\n",
              "    .dataframe tbody tr th {\n",
              "        vertical-align: top;\n",
              "    }\n",
              "\n",
              "    .dataframe thead th {\n",
              "        text-align: right;\n",
              "    }\n",
              "</style>\n",
              "<table border=\"1\" class=\"dataframe\">\n",
              "  <thead>\n",
              "    <tr style=\"text-align: right;\">\n",
              "      <th></th>\n",
              "      <th>Geography</th>\n",
              "      <th>encoded_geography</th>\n",
              "    </tr>\n",
              "  </thead>\n",
              "  <tbody>\n",
              "    <tr>\n",
              "      <th>1</th>\n",
              "      <td>Spain</td>\n",
              "      <td>2</td>\n",
              "    </tr>\n",
              "    <tr>\n",
              "      <th>2</th>\n",
              "      <td>France</td>\n",
              "      <td>0</td>\n",
              "    </tr>\n",
              "    <tr>\n",
              "      <th>4</th>\n",
              "      <td>Spain</td>\n",
              "      <td>2</td>\n",
              "    </tr>\n",
              "    <tr>\n",
              "      <th>5</th>\n",
              "      <td>Spain</td>\n",
              "      <td>2</td>\n",
              "    </tr>\n",
              "    <tr>\n",
              "      <th>7</th>\n",
              "      <td>Germany</td>\n",
              "      <td>1</td>\n",
              "    </tr>\n",
              "  </tbody>\n",
              "</table>\n",
              "</div>"
            ],
            "text/plain": [
              "  Geography  encoded_geography\n",
              "1     Spain                  2\n",
              "2    France                  0\n",
              "4     Spain                  2\n",
              "5     Spain                  2\n",
              "7   Germany                  1"
            ]
          },
          "metadata": {},
          "execution_count": 26
        }
      ]
    },
    {
      "cell_type": "markdown",
      "metadata": {
        "id": "ormThWjSQFkN"
      },
      "source": [
        "**One hot encoding**"
      ]
    },
    {
      "cell_type": "code",
      "metadata": {
        "id": "vavU7_k0P_af"
      },
      "source": [
        "from sklearn.preprocessing import OneHotEncoder"
      ],
      "execution_count": 27,
      "outputs": []
    },
    {
      "cell_type": "code",
      "metadata": {
        "id": "rcRhIVm1Rayf"
      },
      "source": [
        "one_hot  = OneHotEncoder(sparse=False)"
      ],
      "execution_count": 52,
      "outputs": []
    },
    {
      "cell_type": "code",
      "metadata": {
        "id": "C0wwi35hu337"
      },
      "source": [
        "one_hot_processed = one_hot.fit_transform(column_processed[['Gender']])"
      ],
      "execution_count": 54,
      "outputs": []
    },
    {
      "cell_type": "code",
      "metadata": {
        "colab": {
          "base_uri": "https://localhost:8080/"
        },
        "id": "zQC4J4EEu-83",
        "outputId": "2607061a-0bfb-4a3c-d1eb-0c76a6b3ece0"
      },
      "source": [
        "one_hot_processed"
      ],
      "execution_count": 55,
      "outputs": [
        {
          "output_type": "execute_result",
          "data": {
            "text/plain": [
              "array([[1., 0.],\n",
              "       [1., 0.],\n",
              "       [1., 0.],\n",
              "       ...,\n",
              "       [1., 0.],\n",
              "       [0., 1.],\n",
              "       [1., 0.]])"
            ]
          },
          "metadata": {},
          "execution_count": 55
        }
      ]
    },
    {
      "cell_type": "code",
      "metadata": {
        "id": "-lTZztJz0Zhr"
      },
      "source": [
        "df = pd.DataFrame(one_hot_processed,columns=['Female','Male'])"
      ],
      "execution_count": 62,
      "outputs": []
    },
    {
      "cell_type": "code",
      "metadata": {
        "id": "WofklCaC0Jdu"
      },
      "source": [
        "column_processed = column_processed.join(df)"
      ],
      "execution_count": 63,
      "outputs": []
    },
    {
      "cell_type": "markdown",
      "metadata": {
        "id": "-JYi6NKC1DRK"
      },
      "source": [
        "#After one hot encoding and joining the dataframe into the main frame"
      ]
    },
    {
      "cell_type": "code",
      "metadata": {
        "colab": {
          "base_uri": "https://localhost:8080/",
          "height": 361
        },
        "id": "aHfg7Wc60vQ6",
        "outputId": "0072f81d-2cf6-4eed-de01-b10673200447"
      },
      "source": [
        "column_processed[['Gender','Female','Male']].head(10)"
      ],
      "execution_count": 65,
      "outputs": [
        {
          "output_type": "execute_result",
          "data": {
            "text/html": [
              "<div>\n",
              "<style scoped>\n",
              "    .dataframe tbody tr th:only-of-type {\n",
              "        vertical-align: middle;\n",
              "    }\n",
              "\n",
              "    .dataframe tbody tr th {\n",
              "        vertical-align: top;\n",
              "    }\n",
              "\n",
              "    .dataframe thead th {\n",
              "        text-align: right;\n",
              "    }\n",
              "</style>\n",
              "<table border=\"1\" class=\"dataframe\">\n",
              "  <thead>\n",
              "    <tr style=\"text-align: right;\">\n",
              "      <th></th>\n",
              "      <th>Gender</th>\n",
              "      <th>Female</th>\n",
              "      <th>Male</th>\n",
              "    </tr>\n",
              "  </thead>\n",
              "  <tbody>\n",
              "    <tr>\n",
              "      <th>1</th>\n",
              "      <td>Female</td>\n",
              "      <td>1.0</td>\n",
              "      <td>0.0</td>\n",
              "    </tr>\n",
              "    <tr>\n",
              "      <th>2</th>\n",
              "      <td>Female</td>\n",
              "      <td>1.0</td>\n",
              "      <td>0.0</td>\n",
              "    </tr>\n",
              "    <tr>\n",
              "      <th>4</th>\n",
              "      <td>Female</td>\n",
              "      <td>1.0</td>\n",
              "      <td>0.0</td>\n",
              "    </tr>\n",
              "    <tr>\n",
              "      <th>5</th>\n",
              "      <td>Male</td>\n",
              "      <td>0.0</td>\n",
              "      <td>1.0</td>\n",
              "    </tr>\n",
              "    <tr>\n",
              "      <th>7</th>\n",
              "      <td>Female</td>\n",
              "      <td>0.0</td>\n",
              "      <td>1.0</td>\n",
              "    </tr>\n",
              "    <tr>\n",
              "      <th>8</th>\n",
              "      <td>Male</td>\n",
              "      <td>1.0</td>\n",
              "      <td>0.0</td>\n",
              "    </tr>\n",
              "    <tr>\n",
              "      <th>9</th>\n",
              "      <td>Male</td>\n",
              "      <td>1.0</td>\n",
              "      <td>0.0</td>\n",
              "    </tr>\n",
              "    <tr>\n",
              "      <th>10</th>\n",
              "      <td>Male</td>\n",
              "      <td>0.0</td>\n",
              "      <td>1.0</td>\n",
              "    </tr>\n",
              "    <tr>\n",
              "      <th>12</th>\n",
              "      <td>Female</td>\n",
              "      <td>1.0</td>\n",
              "      <td>0.0</td>\n",
              "    </tr>\n",
              "    <tr>\n",
              "      <th>13</th>\n",
              "      <td>Female</td>\n",
              "      <td>0.0</td>\n",
              "      <td>1.0</td>\n",
              "    </tr>\n",
              "  </tbody>\n",
              "</table>\n",
              "</div>"
            ],
            "text/plain": [
              "    Gender  Female  Male\n",
              "1   Female     1.0   0.0\n",
              "2   Female     1.0   0.0\n",
              "4   Female     1.0   0.0\n",
              "5     Male     0.0   1.0\n",
              "7   Female     0.0   1.0\n",
              "8     Male     1.0   0.0\n",
              "9     Male     1.0   0.0\n",
              "10    Male     0.0   1.0\n",
              "12  Female     1.0   0.0\n",
              "13  Female     0.0   1.0"
            ]
          },
          "metadata": {},
          "execution_count": 65
        }
      ]
    },
    {
      "cell_type": "markdown",
      "metadata": {
        "id": "5OAEukCg3ZKa"
      },
      "source": [
        "***colab to pdf***"
      ]
    }
  ]
}